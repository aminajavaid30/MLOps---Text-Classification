{
 "cells": [
  {
   "cell_type": "markdown",
   "metadata": {},
   "source": [
    "# MLOps Assigment 1\n",
    "# Text Classification - **Training**"
   ]
  },
  {
   "cell_type": "markdown",
   "metadata": {},
   "source": [
    "## 1. Data Loading "
   ]
  },
  {
   "cell_type": "markdown",
   "metadata": {},
   "source": [
    "### Load the Dataset from Hugging Face using the `datasets` library"
   ]
  },
  {
   "cell_type": "code",
   "execution_count": null,
   "metadata": {},
   "outputs": [],
   "source": [
    "# Load the IMDB Movie Reviews dataset\n",
    "from datasets import load_dataset\n",
    "dataset = load_dataset('imdb')"
   ]
  },
  {
   "cell_type": "code",
   "execution_count": 2,
   "metadata": {},
   "outputs": [
    {
     "data": {
      "text/plain": [
       "DatasetDict({\n",
       "    train: Dataset({\n",
       "        features: ['text', 'label'],\n",
       "        num_rows: 25000\n",
       "    })\n",
       "    test: Dataset({\n",
       "        features: ['text', 'label'],\n",
       "        num_rows: 25000\n",
       "    })\n",
       "    unsupervised: Dataset({\n",
       "        features: ['text', 'label'],\n",
       "        num_rows: 50000\n",
       "    })\n",
       "})"
      ]
     },
     "execution_count": 2,
     "metadata": {},
     "output_type": "execute_result"
    }
   ],
   "source": [
    "dataset"
   ]
  },
  {
   "cell_type": "code",
   "execution_count": 3,
   "metadata": {},
   "outputs": [
    {
     "data": {
      "text/plain": [
       "{'text': ['I rented I AM CURIOUS-YELLOW from my video store because of all the controversy that surrounded it when it was first released in 1967. I also heard that at first it was seized by U.S. customs if it ever tried to enter this country, therefore being a fan of films considered \"controversial\" I really had to see this for myself.<br /><br />The plot is centered around a young Swedish drama student named Lena who wants to learn everything she can about life. In particular she wants to focus her attentions to making some sort of documentary on what the average Swede thought about certain political issues such as the Vietnam War and race issues in the United States. In between asking politicians and ordinary denizens of Stockholm about their opinions on politics, she has sex with her drama teacher, classmates, and married men.<br /><br />What kills me about I AM CURIOUS-YELLOW is that 40 years ago, this was considered pornographic. Really, the sex and nudity scenes are few and far between, even then it\\'s not shot like some cheaply made porno. While my countrymen mind find it shocking, in reality sex and nudity are a major staple in Swedish cinema. Even Ingmar Bergman, arguably their answer to good old boy John Ford, had sex scenes in his films.<br /><br />I do commend the filmmakers for the fact that any sex shown in the film is shown for artistic purposes rather than just to shock people and make money to be shown in pornographic theaters in America. I AM CURIOUS-YELLOW is a good film for anyone wanting to study the meat and potatoes (no pun intended) of Swedish cinema. But really, this film doesn\\'t have much of a plot.',\n",
       "  '\"I Am Curious: Yellow\" is a risible and pretentious steaming pile. It doesn\\'t matter what one\\'s political views are because this film can hardly be taken seriously on any level. As for the claim that frontal male nudity is an automatic NC-17, that isn\\'t true. I\\'ve seen R-rated films with male nudity. Granted, they only offer some fleeting views, but where are the R-rated films with gaping vulvas and flapping labia? Nowhere, because they don\\'t exist. The same goes for those crappy cable shows: schlongs swinging in the breeze but not a clitoris in sight. And those pretentious indie movies like The Brown Bunny, in which we\\'re treated to the site of Vincent Gallo\\'s throbbing johnson, but not a trace of pink visible on Chloe Sevigny. Before crying (or implying) \"double-standard\" in matters of nudity, the mentally obtuse should take into account one unavoidably obvious anatomical difference between men and women: there are no genitals on display when actresses appears nude, and the same cannot be said for a man. In fact, you generally won\\'t see female genitals in an American film in anything short of porn or explicit erotica. This alleged double-standard is less a double standard than an admittedly depressing ability to come to terms culturally with the insides of women\\'s bodies.',\n",
       "  \"If only to avoid making this type of film in the future. This film is interesting as an experiment but tells no cogent story.<br /><br />One might feel virtuous for sitting thru it because it touches on so many IMPORTANT issues but it does so without any discernable motive. The viewer comes away with no new perspectives (unless one comes up with one while one's mind wanders, as it will invariably do during this pointless film).<br /><br />One might better spend one's time staring out a window at a tree growing.<br /><br />\",\n",
       "  \"This film was probably inspired by Godard's Masculin, féminin and I urge you to see that film instead.<br /><br />The film has two strong elements and those are, (1) the realistic acting (2) the impressive, undeservedly good, photo. Apart from that, what strikes me most is the endless stream of silliness. Lena Nyman has to be most annoying actress in the world. She acts so stupid and with all the nudity in this film,...it's unattractive. Comparing to Godard's film, intellectuality has been replaced with stupidity. Without going too far on this subject, I would say that follows from the difference in ideals between the French and the Swedish society.<br /><br />A movie of its time, and place. 2/10.\",\n",
       "  'Oh, brother...after hearing about this ridiculous film for umpteen years all I can think of is that old Peggy Lee song..<br /><br />\"Is that all there is??\" ...I was just an early teen when this smoked fish hit the U.S. I was too young to get in the theater (although I did manage to sneak into \"Goodbye Columbus\"). Then a screening at a local film museum beckoned - Finally I could see this film, except now I was as old as my parents were when they schlepped to see it!!<br /><br />The ONLY reason this film was not condemned to the anonymous sands of time was because of the obscenity case sparked by its U.S. release. MILLIONS of people flocked to this stinker, thinking they were going to see a sex film...Instead, they got lots of closeups of gnarly, repulsive Swedes, on-street interviews in bland shopping malls, asinie political pretension...and feeble who-cares simulated sex scenes with saggy, pale actors.<br /><br />Cultural icon, holy grail, historic artifact..whatever this thing was, shred it, burn it, then stuff the ashes in a lead box!<br /><br />Elite esthetes still scrape to find value in its boring pseudo revolutionary political spewings..But if it weren\\'t for the censorship scandal, it would have been ignored, then forgotten.<br /><br />Instead, the \"I Am Blank, Blank\" rhythymed title was repeated endlessly for years as a titilation for porno films (I am Curious, Lavender - for gay films, I Am Curious, Black - for blaxploitation films, etc..) and every ten years or so the thing rises from the dead, to be viewed by a new generation of suckers who want to see that \"naughty sex film\" that \"revolutionized the film industry\"...<br /><br />Yeesh, avoid like the plague..Or if you MUST see it - rent the video and fast forward to the \"dirty\" parts, just to get it over with.<br /><br />'],\n",
       " 'label': [0, 0, 0, 0, 0]}"
      ]
     },
     "execution_count": 3,
     "metadata": {},
     "output_type": "execute_result"
    }
   ],
   "source": [
    "dataset['train'][:5]"
   ]
  },
  {
   "cell_type": "code",
   "execution_count": 4,
   "metadata": {},
   "outputs": [
    {
     "data": {
      "text/plain": [
       "{'text': ['Just got around to seeing Monster Man yesterday. It had been a long wait and after lots of anticipation and build up, I\\'m glad to say that it came through and met my expectations on every level. True, you really can\\'t expect too much from hearing the plot rundown, but after reading some of the reviews for it, I was ecstatic. I mean, what trash fan wouldn\\'t want to see a gore flick about a deranged inbred hick mowing people down with his make-shift monster truck? I went in expecting a cross between Road Trip and The Hills Have Eyes and got so much more. This was a horror comedy that actually worked. The film makers got it right when it came to making you squirm and making you howl with laughter at the same time. Kudos to Michael Davis for going all out with the gore and pushing the envelope with the sickass humor. Let me list just a few reasons why I love this movie so much: First off is the story. It\\'s been done to death in so many other flicks. A college guy gets wind that his childhood crush is getting married. He, being the 25 year old virgin that he is, hops in his Vista Cruiser and decides to take the road trip to confess his love, hoping that she will fall head over hills and all that good jive. Hidden in the backseat of his station wagon, is good buddy Harley. Harley is the loudmouth, former friend, who laughs and talks just like Jack Black in High Fidelity. You can\\'t help but like the guy, but if he was your friend in real life, you\\'d have to keep a whiffle ball bat handy(laugh all you want, but have you ever been hit with one?) to keep him in check. So, he\\'s a little on the obnoxious side, to say the least, but you can tell that he\\'s a loyal friend, deep down...Anyway, they\\'re on the road and when they stop in a bar, they aggravate the locals. Now they\\'re being stalked by a leatherface clone in a monster truck. That\\'s it. Yeah, along the way they pick up a gorgeous hitchhiker but I\\'m too lazy and hungover to go into that right now... so just watch the damn movie.<br /><br />Second thing I love was the humor. This one had some of the sickest laughs of any movie since Cabin Fever. Just how messed up is it? Well, I won\\'t even go into the whole cat scene and as for the \"corpse burrito\" thing, I\\'ll leave that to your virgin eyes as well. The bar full of amputees was somewhat disturbing and that guy who looked like John Turturro bothered me too. Harley, although a totally obnoxious frat-boy type, can really sling off the one liners. Love the clogs, by the way. I need a new pair..<br /><br />The GORE. This one pours it on heavy. While the first hour plays out as a demented road comedy, the last third is all about blood and guts. If the movie hadn\\'t kept such a light tone throughout, it would have been a little disturbing, but seeing how it was all played for laughs, there is no way possible that you will be bothered by it. If you\\'re still in your seat by the time it comes, you\\'ll probably see the humor in it too, but seriously, there were buckets and buckets of the red stuff. There was a big plot turn that I DIDN\\'T see coming and when the credits rolled, I was completely satisfied. I had gotten exactly what I came for and I\\'m really glad that I bought it. Much like Cabin Fever, it\\'s going to get a lot of replay.<br /><br />The Look of the movie was outstanding. There was this deliberately cheap look that made the whole thing scream late 80s and I loved the exaggerated colors. It\\'s obvious that Monster Man was done on a relatively low budget, but much like Cabin Fever (sorry I keep comparing the two) it actually works in the movie\\'s favor. Cabin Fever was an ode to the 70s greats, this was the 80s answer to that. So take that for what it\\'s worth. No CGI here. This is what we all needed. I\\'m not exactly sure why it didn\\'t get a theatrical release because this is everything that Jeepers Creepers SHOULD have been. Thank god for Lions Gate.',\n",
       "  'I got this as part of a competition prize. I watched it, not really expecting much from an obviously low budget production. I laughed myself sick!There are obvious references to other films in the horror genre - Texas Chain Saw Massacre, Friday 13th etc. All the standard clichés were there - long drive through partially arid and somehow menacing countryside, inbred red-necks, mysterious vehicles tracking you - throw in some really good humorous scenes (siphoning petrol from the camper-van) and dialogue (\"f*****g virgin? That\\'s got to be an oxymoron..\" and you have one of the best spoof horror films for years. I particularly liked the way our reluctant hero used his stress-related nose-bleed to great advantage..',\n",
       "  \"I got Monster Man in a box set of three films where I mainly wanted the other two but still had a very pleasant time with it. It blends horror and comedy to reasonable effect, helped out considerably by the decent performances of Eric Jungman as the geeky lead, Justin Urich as his a hole friend and Aimee Brooks as the love interest. The film is fairly predictable and mines ideas from a host of other films, but stays fun throughout, with some good gruesome gore thrown in. Sure it doesn't measure up to the classic gory comedies, but this still does fine. Director Michael Davis even manages one or two creepy scenes, such as in the bathroom, or the bar. The film is watchable throughout if a little messily plotted and written and for me it only lost it a bit towards the end when the Monster Man of the title starts to resemble a member of Slipknot and the film tries to go more horror style but isn't twisted or convincing enough. The final moments are a trifle weak as well. Still, despite lack of much suspense and overall silliness, this is a good example of unpretentious, often gnarly splatter comedy that should endear itself to fans of the same.\",\n",
       "  \"Five minutes in, i started to feel how naff this was looking, you've got a completely unheroic hero and his overweight fool of a friend. Seen it all before, yeah right. I was getting ready to be bored out of my mind for a good few hours. This is something i have become quite used to... haven't we all. Then after a few minutes of testosterone fuelled insults and such, the truck appeared. Okay the filming techniques used to make it look fast were clumsy, but who cares! That truck is amazing! Soon however that is taken away again and we're back to the geek and his overweight friend. But now i'm satisfied that at least it won't be too terrible. I then proceed to be amazed again and again by the cleverness of the film. There are so many jokes at their expense, it's like everyone in the world is in on this except the two of them. The mind behind the makeup and effects was a genius i swear it. Believe me, if you are a man you miss so many of the jokes in this film, there is so much here that only a girl can understand.<br /><br />Brother Bob is by far the best hillbilly killer that can be found anywhere, the fact that he's sewn together just adds to the effect. There are of course some really dud science facts in here, but isn't that always the case. When our 'hero' is having a nose bleed and using the blood to lead brother Bob to his death, now that is rubbish. There is no way a nose bleed can be that bad and not mean a severed artery or something. I'm all with the use of too much blood, but that is taking it a little too far. The incest jokes are a little predictable but funny nonetheless. And the way brother bob meets his end is more than classic. Overall, this movie rules, it really breaks out of the overacted melodramatic strain of horror that we got so much of in 2003-2005. The end of this move simply could not have been better.<br /><br />This is a definite must watch for anyone who likes their horror with several side orders of gore and attitude.\",\n",
       "  'I caught this movie on the Sci-Fi channel recently. It actually turned out to be pretty decent as far as B-list horror/suspense films go. Two guys (one naive and one loud mouthed a**) take a road trip to stop a wedding but have the worst possible luck when a maniac in a freaky, make-shift tank/truck hybrid decides to play cat-and-mouse with them. Things are further complicated when they pick up a ridiculously whorish hitchhiker. What makes this film unique is that the combination of comedy and terror actually work in this movie, unlike so many others. The two guys are likable enough and there are some good chase/suspense scenes. Nice pacing and comic timing make this movie more than passable for the horror/slasher buff. Definitely worth checking out.'],\n",
       " 'label': [1, 1, 1, 1, 1]}"
      ]
     },
     "execution_count": 4,
     "metadata": {},
     "output_type": "execute_result"
    }
   ],
   "source": [
    "dataset['test'][24995:25000]"
   ]
  },
  {
   "cell_type": "markdown",
   "metadata": {},
   "source": [
    "### Split the dataset into training, validation, and test sets "
   ]
  },
  {
   "cell_type": "markdown",
   "metadata": {},
   "source": [
    "The data is already split into `train` and `test` sets. We'll split the train set into `train` and `validation` sets."
   ]
  },
  {
   "cell_type": "code",
   "execution_count": 5,
   "metadata": {},
   "outputs": [
    {
     "name": "stdout",
     "output_type": "stream",
     "text": [
      "Train set size: 20000\n",
      "Validation set size: 5000\n",
      "Test set size: 25000\n"
     ]
    }
   ],
   "source": [
    "# Split the dataset into training, validation, and test sets\n",
    "from sklearn.model_selection import train_test_split\n",
    "\n",
    "X = dataset['train']['text']\n",
    "y = dataset['train']['label']\n",
    "X_train, X_val, y_train, y_val = train_test_split(X, y, test_size=0.2, random_state=42)\n",
    "X_test = dataset['test']['text']\n",
    "y_test = dataset['test']['label']\n",
    "\n",
    "# Print sizes of the splits\n",
    "print(f\"Train set size: {len(X_train)}\")\n",
    "print(f\"Validation set size: {len(X_val)}\")\n",
    "print(f\"Test set size: {len(X_test)}\")\n",
    "\n",
    "train = {'text': X_train, 'labels': y_train}\n",
    "val = {'text': X_val, 'labels': y_val}\n",
    "test = {'text': X_test, 'labels': y_test}"
   ]
  },
  {
   "cell_type": "markdown",
   "metadata": {},
   "source": [
    "## 2. Data Preprocessing"
   ]
  },
  {
   "cell_type": "markdown",
   "metadata": {},
   "source": [
    "### Preprocess the text data"
   ]
  },
  {
   "cell_type": "code",
   "execution_count": null,
   "metadata": {},
   "outputs": [],
   "source": [
    "import nltk\n",
    "nltk.download('punkt')\n",
    "nltk.download('wordnet')\n",
    "nltk.download('omw-1.4')\n",
    "nltk.download('stopwords')"
   ]
  },
  {
   "cell_type": "code",
   "execution_count": 7,
   "metadata": {},
   "outputs": [],
   "source": [
    "# Function to remove punctuations from text\n",
    "import re\n",
    "import string\n",
    "from nltk.corpus import stopwords\n",
    "from nltk.tokenize import word_tokenize\n",
    "from nltk.stem import WordNetLemmatizer\n",
    "\n",
    "def remove_punctuation(text):\n",
    "    regular_punct = string.punctuation\n",
    "    #return re.sub(r'[#!\"#$%&\\'()*+,-./:;<=>?@[\\]^_`{|}~]', '', str(text))\n",
    "    return str(re.sub(r'['+regular_punct+']', '', str(text)))\n",
    "\n",
    "# Function to remove URLs from text\n",
    "def remove_urls(text):\n",
    "    return re.sub(r'http[s]?://\\S+', '', text)\n",
    "\n",
    "# Function to convert the text into lower case\n",
    "def lower_case(text):\n",
    "    return text.lower()\n",
    "\n",
    "# Function to lemmatize text\n",
    "def lemmatize(text):\n",
    "  wordnet_lemmatizer = WordNetLemmatizer()\n",
    "\n",
    "  tokens = nltk.word_tokenize(text)\n",
    "  lemma_txt = ''\n",
    "  for w in tokens:\n",
    "    lemma_txt = lemma_txt + wordnet_lemmatizer.lemmatize(w) + ' '\n",
    "\n",
    "  return lemma_txt"
   ]
  },
  {
   "cell_type": "code",
   "execution_count": 8,
   "metadata": {},
   "outputs": [],
   "source": [
    "import pandas as pd\n",
    "\n",
    "# Apply preprocessing steps to 'text' column in train\n",
    "series = pd.Series(train['text'])\n",
    "series = series.apply(remove_urls)\n",
    "series = series.apply(remove_punctuation)\n",
    "series = series.apply(lower_case)\n",
    "series = series.apply(lemmatize)\n",
    "\n",
    "train['text'] = series.to_list()"
   ]
  },
  {
   "cell_type": "code",
   "execution_count": 9,
   "metadata": {},
   "outputs": [
    {
     "data": {
      "text/plain": [
       "['i borrowed this movie despite it extremely low rating because i wanted to see how the crew manages to animate the presence of multiple world a a matter of fact they didnt at least so it seems some cameo appearance cut rather clumsily into the movie thats it this is what the majority of viewer think however the surprise come at the end and unfortunately then when probably most of the viewer have already stopped this movie i wa also astonished when i saw that the brazilianportuguese title of this movie mean voyage into death this is the spoilerbr br that this movie is about a young girl who go alone onto this boat on reason that are completely unclear you understand only in the last 5 minute when you start the movie with the english title haunted boat in your head you clearly think that the cameo appearance of strange figure are the ghost but in reality this movie is not like most other horror movie told from the distant writerwatcher perspective who can at almost any time differentiate between different level of reality it is told from the perspective of the young girl we see her not alone but together with the four friend because she see them we do not see that she is alone so the parallel world are not the cameo appearance flickering into the picturestream but the main story we have at least two parallel world the world in which the girl is and the world in which the 4 friend are an intrusion of a third world is probably the young man with the medical skill who come for a short time on the boatbr br i can not get rid of the deep conviction that with this movie the moviemakers cheated an audience of several thousand people by letting them believe that what they have done is more or le a sophomore filmstudent elaborate with hastily chosen pseudoactors that have met just the night before the start of the shooting in a dump after at least twelve beer how mistaken can one be but in addition to this big surprise which one learns only in the very last minute the end that follows give another surprise the girl is saved by a crew in a helicopter and another boat when she ha recovered from her shock she visit again the place at the harbor where she ascended the boat together with the four friend and there they are again they wave her to them from the boat which ha already taken off shore she jump into the water arrives at the boat and they are away miraculously beautiful it remembers me a bit to the end of a poem by a rhetoromance writer when i awoke i saw death standing at my bed but i closed my eye when i opened them again he wa gone ',\n",
       " 'after the unexpected accident that killed an inexperienced climber michelle joyner eight month ha passed the rocky mountain rescue receive a distress call set by a brilliant terrorist mastermind eric quaien john lithgow quaien ha lost three large case that ha million of dollar inside two experienced climber walker sylvester stallone and tucker micheal rooker and a helicopter pilot janine turner are to the rescue but they are set by a trap by quaien and his men now the two climber and pilot are forced to play a deadly game of hide and seek while quaien is trying to find the million of dollar and he kidnapped tucker to find the money once tucker find the money tucker will be dead against explosive firepower bitter cold and dizzying height walker must outwit quaien for survivalbr br directed by renny harlin driven mindhunters a nightmare on elm street 4the dream master made an entertaining nonstop action picture this film is a spectacular exciting visually exciting action picture with plenty of dark humour a well this wa one of the biggest hit of 1993 this is one of harlins best film lithgow is a terrific entertaining villain stallone certainly made an short comeback of this sharp thriller this is probably harlins best work a a filmmakerbr br dvd ha an sharp anamorphic widescreen 2351 transfer and an terrificdolby digital 51 surround sound dvd ha an running commentary track by the director with comment by stallone dvd also ha technical crew commentary a well dvd ha behind the scene featurette two deleted scene with introduction by the director and more do not miss this great action film screenplay by micheal france fantastic four and actorstallone the rocky series based on a premise by john long excellent cinematography by alex thomson bsc alien³ demolition man legend oscar nominated for best sound best sound editing and best visual effect panavision ',\n",
       " 'on the 1998 summer blockbuster hit baseketball 1998 this is one of those movie that is usually seen on the big jumbotron screen in a sport bar during the day when everyone is quite drunk unfortunately i wa sober when i saw this moviebr br so quoted the late gene siskel for this lamebrained supposed yukfest that came out two week after the far superior there something about mary in a oneupmanship game during july of 1998 mary wa a grossout fest but in addition to the many gag it had a lot of heart which is why it wa the highest grossing comedy of that memorable summerbr br baseketball tried to outdo mary but it fizzled in more way that one you take the creator of south park trey parker and matt stone who are fortunately not behind the movie but in front of the camera the only member of zaz david zucker helming the picture in desperate need of a paycheck and the other two jim abraham and jerry zucker clearly stayed out or probably warned him against the picture a small bit by now 90 year young ernest borgnine wasting his precious time in his distinguished career dying on a hotdog and singing im too sexy a he videotape his will jenny mccarthy who ha little screen time a borgnines nottooweeping trophy widow young enough to be his granddaughter a bigger female part by yasmine bleeth a a dedicated social worker whose charge are underprivileged youngster and the only interesting and meaningful player in this turkey robert vaughn a a corrupt archrival and pointless cameo by airplane alumnus kareem abdul jabaar and the late robert stack who seemed nostalgic for the 1980 masterpiece and it much fresher humor created by the zaz family what do all these people make up a desperate cast and crew trying to replicate airplane humor and mixing it up with the crudity of south park but failing in every waybr br to make this long 100minute movie short baseketball a real game invented by david zucker and his friend in his hometown of milwaukee is about two lazy loser parker and stone and their pintsized mutual friend who invent baseball and basketball hence the title together on the driveway of one house after borgnine dy he bequeaths the ownership of his baseketball team the milwaukee beer to parker and stone sure enough the game go national and archrivals vaughn and mccarthy want to take away ownership of the beer team from them but bleeth is in love with both men particularly parker and one poor sick charge in need of a liver transplant go gaga over them those are the character not strongly developedbr br now witless gag ensue blood electroshock hair eggthrowing and screaming are among them parker and stone nearly kill the youngster in the hospital but he pull through the liver transplant borgnine sings and rub ointment on his chest in the videotaped will mccarthy who seemed to get over borgnines death by choking on a frank right away quickly massage vaughn in the next scene cheerleader dance in skimpy outfit there is plenty of music on the soundtrack that is played for the hard of hearing and david zucker force the parody of riverdance and titanic parody forcing is nothing new to zaz post airplane and the naked gun seriesbr br and like siskel i wa sober a well but i wa also getting sleepy this movie should be played over and over to coarsemannered barroom patron who enjoy it a they chug down beer but will they remain alert and awake or pas out during the unfunny part if they pas out then they wont realize that they are luckily missing stupidity and absurdity hat off to them ',\n",
       " 'can scarcely imagine a better movie than thisbr br hey before you all go chick flick on me i am a very large strong masculine macho man who happens to think this wa one of the better movie of the last 20 year br br the acting wa superb and the story wa marvelous this is wonderful medicine for the heart and soul the acting could not have been better nor the movie better cast br br i have known for a good while that mercedes ruehl along with holly hunter joan plowright dame edith evans sissy spacek judi dench is among the greatest actress ever to appear on film and of course cloris leachman also in this film in my view may in fact exceed them all in the shear magnum of her talent and varied role she ha appeared in over the year at any rate this wa an amazing cast this film wa like a book that you can not lay down and when you have reached the last page wish for morestill more i can not for the life of me understand why this film here on the imdb only rate a 39br br that rating here is utterly amazing to me or perhaps not perhaps in fact i do understand it ever so well and that is what make me really sad it make me ever so sad that film like american beauty leaving la vega sexy beast and fight club rating skyrocket off the chart in popularity when they in fact at least in this viewer opinion should have received an r ratingr that is for rubbish hey ok i realize there are a lot of different story in this world for a lot of different audience but it is a sad commentary when this lovely powerfulextraordinarily directed acted and written film seems to be over looked br br it obviously wa at the academy award a wellhow sad and how predictable my summation is that if you want to see a powerful happy sad beautiful story watch preferably own this film ',\n",
       " 'a still famous but decadent actor morgan freeman ha not filmed for four year when he is invited to participate in a new project he asks the clumsy cousin of the director to drop him in a poor latin neighborhood in carlson to research the work of the manager of a small supermarket he see the gorgeous spanish cashier scarlet paz vega and he becomes attracted with her ability his driver never return to catch him and scarlet give a ride to the actor but first she ha a job interview for the position of secretary in a construction company and the actor help her to be prepared then they spend the afternoon together having a pleasant timebr br i am a big fan of morgan freeman and paz vega however the pointless 10 item or le is absolutely disappointing this lowbudget movie doe not seem to have a storyline and is supported by the chemistry and improvisation of morgan freeman and paz vega and actually nothing happens along 82 minute the ambiguous open conclusion is simply ridiculous with the character of morgan freeman returning to his silver spoon world and telling the simple worker that they would never see each other again wa he afraid to have a love affair with her and destroy his perfect world with his family or wa a clash of class and he realizes that his fancy neighborhood would not be adequate to a simple worker from the lower class my vote is fourbr br title brazil um astro em minha vida a star in my life ']"
      ]
     },
     "execution_count": 9,
     "metadata": {},
     "output_type": "execute_result"
    }
   ],
   "source": [
    "train['text'][:5]"
   ]
  },
  {
   "cell_type": "code",
   "execution_count": 10,
   "metadata": {},
   "outputs": [],
   "source": [
    "# Apply preprocessing steps to 'text' column in val\n",
    "series = pd.Series(val['text'])\n",
    "series = series.apply(remove_urls)\n",
    "series = series.apply(remove_punctuation)\n",
    "series = series.apply(lower_case)\n",
    "series = series.apply(lemmatize)\n",
    "\n",
    "val['text'] = series.to_list()"
   ]
  },
  {
   "cell_type": "code",
   "execution_count": 11,
   "metadata": {},
   "outputs": [
    {
     "data": {
      "text/plain": [
       "['dumb is a dumb doe in this thoroughly uninteresting supposed black comedy essentially what start out a chris klein trying to maintain a low profile eventually morphs into an uninspired version of the three amigo only without any laugh in order for black comedy to work it must be outrageous which play dead is not in order for black comedy to work it can not be mean spirited which play dead is what play dead really is is a town full of nut job fred dunst doe however do a pretty fair imitation of billy bob thornton character from a simple plan while jake busey doe a pretty fair imitation of well jake busey merk ',\n",
       " 'i dug out from my garage some old musical and this is another one of my favorite it wa written by jay alan lerner and directed by vincent minelli it won two academy award for best picture of 1951 and best screenplay the story of an american painter in paris who try to make it big nina foch is a sophisticated lady of mean and is very interested in helping him but soon find she love the guy meanwhile gene kelly fall for lovely damsel leslie caron his main dancing partner and i must say they are fantastic together on the floor and otherwise famous french singer george guietary sings too so if you like good smooth dancing and fun filled scene filled with oscar levant nimble piano finger the song of george gershwyn will live on forever in this colorful gem 810 ',\n",
       " 'after watching this movie i wa honestly disappointed not because of the actor story or directing i wa disappointed by this film advertisementsbr br the trailer were suggesting that the battalion have chosen the third way out other than surrender or die polish info were even misguiding that they had the choice between being killed by own artillery or german gun they even translated the title wrong a misplaced battalion this have tickled the right spot and i bought the moviebr br the disappointment started when i realized that the third way is to just sit down and count dead body followed by sitting down and counting dead body then i began to think hey this story cant be that simple i bet this clever officer will find some cunning way to save what left of his troop well he didnt they were just sitting and waiting for something to happen and so wa ibr br the story wa based on real event of world war i so the writer couldnt make much use of their imagination but even thought i found this movie really unchallenging and even a little bit boring and a i wrote in the first place it isnt fault of actor writer or director their marketing people have raised my expectation high above the level that this movie could cope with ',\n",
       " 'this movie wa nominated for best picture but lost out to casablanca but paul lukas beat out humphrey bogart for best actor i dont see why lucile watson wa nominated for best supporting actor i just dont think she did a very good job bette davis and paul lukas and their three kid are leaving mexico and coming into the united state in the first scene of the movie they are going by train to davis relative house davis and lukas were in the underground to stop the nazi so they are very tired and need rest but when they arrive home their is a nazi living there and theirs not much either can do about it it turn out the nazi only care about money and is willing to make a deal with lukas their is more to the plot but you can find that out for yourself ',\n",
       " 'just like al gore shook u up with his painfully honest and cleverly presented documentarymovie an inconvenient truth director alastair fothergill and mark linfield also remind u that it about time to improve our way of life in order to save our beautiful planet planet earth is also a wakeup call that the global warming of our planet ha disastrous consequence for all living creature around the world al gore showed u the bleak future of planet earth by presenting hard fact backed up by documented example through long yet always interesting monologue the creator of this documentary choose a different yet equally powerful way to accomplish this they do not present u with a future representation of what might occur to our planet if we dont radically change thing around but they rather show u the genuine beauty of planet earth in all of it amazing glory we see place that we knew that existed but never thought they could be so beautiful in this movie we see a wide array of the most extraordinary place such a forsaken desert giant forest full of fauna and flora and icylandscapes a far a the eye could see and in all of those immensely different environment we see the most beautiful animal trying to survivebr br this is exactly the kind of movie that had to be made in combination with the one from al gore in order to make u realize that our planet is too precious to meddle with the voiceover by patrick stewart is always relaxing and thus very well done although at first it sounded a though i wa watching an xmen movie instead the cinematography is probably the most remarkable thing of this documentary at time what you see is so unreal that you tend to forget that a man with a camera actually had to film all of that delightful footagebr br in short this is definitely a mustsee for everyone since it concern every single person on this beautiful planet earth the truth is i never thought our planet wa so astonishingly beautiful ']"
      ]
     },
     "execution_count": 11,
     "metadata": {},
     "output_type": "execute_result"
    }
   ],
   "source": [
    "val['text'][:5]"
   ]
  },
  {
   "cell_type": "code",
   "execution_count": 12,
   "metadata": {},
   "outputs": [],
   "source": [
    "# Apply preprocessing steps to 'text' column in test\n",
    "series = pd.Series(test['text'])\n",
    "series = series.apply(remove_urls)\n",
    "series = series.apply(remove_punctuation)\n",
    "series = series.apply(lower_case)\n",
    "series = series.apply(lemmatize)\n",
    "\n",
    "test['text'] = series.to_list()"
   ]
  },
  {
   "cell_type": "code",
   "execution_count": 13,
   "metadata": {},
   "outputs": [
    {
     "data": {
      "text/plain": [
       "['i love scifi and am willing to put up with a lot scifi moviestv are usually underfunded underappreciated and misunderstood i tried to like this i really did but it is to good tv scifi a babylon 5 is to star trek the original silly prosthetics cheap cardboard set stilted dialogue cg that doesnt match the background and painfully onedimensional character can not be overcome with a scifi setting im sure there are those of you out there who think babylon 5 is good scifi tv it not it clichéd and uninspiring while u viewer might like emotion and character development scifi is a genre that doe not take itself seriously cf star trek it may treat important issue yet not a a serious philosophy it really difficult to care about the character here a they are not simply foolish just missing a spark of life their action and reaction are wooden and predictable often painful to watch the maker of earth know it rubbish a they have to always say gene roddenberrys earth otherwise people would not continue watching roddenberrys ash must be turning in their orbit a this dull cheap poorly edited watching it without advert break really brings this home trudging trabant of a show lumber into space spoiler so kill off a main character and then bring him back a another actor jeeez dallas all over again ',\n",
       " 'worth the entertainment value of a rental especially if you like action movie this one feature the usual car chase fight with the great van damme kick style shooting battle with the 40 shell load shotgun and even terrorist style bomb all of this is entertaining and competently handled but there is nothing that really blow you away if youve seen your share beforebr br the plot is made interesting by the inclusion of a rabbit which is clever but hardly profound many of the character are heavily stereotyped the angry veteran the terrified illegal alien the crooked cop the indifferent fed the bitchy tough lady station head the crooked politician the fat federale who look like he wa typecast a the mexican in a hollywood movie from the 1940s all passably acted but again nothing specialbr br i thought the main villain were pretty well done and fairly well acted by the end of the movie you certainly knew who the good guy were and werent there wa an emotional lift a the really bad one got their just desert very simplistic but then you werent expecting hamlet right the only thing i found really annoying wa the constant cut to vd daughter during the last fight scenebr br not bad not good passable 4 ',\n",
       " 'it a totally average film with a few semialright action sequence that make the plot seem a little better and remind the viewer of the classic van dam film part of the plot dont make sense and seem to be added in to use up time the end plot is that of a very basic type that doesnt leave the viewer guessing and any twist are obvious from the beginning the end scene with the flask back dont make sense a they are added in and seem to have little relevance to the history of van dam character not really worth watching again bit disappointed in the end production even though it is apparent it wa shot on a low budget certain shot and section in the film are of poor directed quality ',\n",
       " 'star rating saturday night friday night friday morning sunday night monday morning br br former new orleans homicide cop jack robideaux jean claude van damme is reassigned to columbus a small but violent town in mexico to help the police there with their effort to stop a major heroin smuggling operation into their town the culprit turn out to be exmilitary lead by former commander benjamin meyers stephen lord otherwise known a jase from east enders who is using a special method he learned in afghanistan to fight off his opponent but jack ha a more personal reason for taking him down that draw the two men into an explosive final showdown where only one will walk away alivebr br after until death van damme appeared to be on a high showing he could make the best straight to video film in the action market while that wa a far more drama oriented film with the shepherd he ha returned to the highkicking no brainer action that first made him famous and ha sadly produced his worst film since derailed it nowhere near a bad a that film but what i said still standsbr br a dull predictable film with very little in the way of any exciting action what little there is mainly consists of some limp fight scene trying to look cool and trendy with some cheap slomosped up effect added to them that sadly instead make them look more desperate being a mexican set film director isaac florentine ha tried to give the film a robert rodriguezdesperado sort of feel but this only add to the desperationbr br vd give a particularly uninspired performance and given he never been a robert de niro sort of actor that cant be good a the villain lord shouldnt expect to leave the beeb anytime soon he get little dialogue at the beginning a he struggle to muster an american accent but get mysteriously better towards the end all the supporting cast are equally bland and do nothing to raise the film spirit at allbr br this is one shepherd thats strayed right from the flock ',\n",
       " 'first off let me say if you havent enjoyed a van damme movie since bloodsport you probably will not like this movie most of these movie may not have the best plot or best actor but i enjoy these kind of movie for what they are this movie is much better than any of the movie the other action guy segal and dolph have thought about putting out the past few year van damme is good in the movie the movie is only worth watching to van damme fan it is not a good a wake of death which i highly recommend to anyone of like van damme or in hell but in my opinion it worth watching it ha the same type of feel to it a nowhere to run good fun stuff ']"
      ]
     },
     "execution_count": 13,
     "metadata": {},
     "output_type": "execute_result"
    }
   ],
   "source": [
    "test['text'][:5]"
   ]
  },
  {
   "cell_type": "markdown",
   "metadata": {},
   "source": [
    "### Tokenize the text data"
   ]
  },
  {
   "cell_type": "code",
   "execution_count": 14,
   "metadata": {},
   "outputs": [],
   "source": [
    "from transformers import AutoTokenizer\n",
    "\n",
    "# Load the BERT tokenizer\n",
    "tokenizer = AutoTokenizer.from_pretrained(\"bert-base-cased\")"
   ]
  },
  {
   "cell_type": "code",
   "execution_count": 15,
   "metadata": {},
   "outputs": [],
   "source": [
    "# Tokenize the text data\n",
    "def tokenize_data(data):\n",
    "    return tokenizer(data['text'], return_tensors='pt', padding=True, truncation=True)\n",
    "\n",
    "train_tokenized = tokenize_data(train)\n",
    "val_tokenized = tokenize_data(val)\n",
    "test_tokenized = tokenize_data(test)"
   ]
  },
  {
   "cell_type": "code",
   "execution_count": 16,
   "metadata": {},
   "outputs": [
    {
     "name": "stdout",
     "output_type": "stream",
     "text": [
      "train_tokenized[0] = Encoding(num_tokens=512, attributes=[ids, type_ids, tokens, offsets, attention_mask, special_tokens_mask, overflowing])\n",
      "val_tokenized[0] = Encoding(num_tokens=512, attributes=[ids, type_ids, tokens, offsets, attention_mask, special_tokens_mask, overflowing])\n",
      "test_tokenized[0] = Encoding(num_tokens=512, attributes=[ids, type_ids, tokens, offsets, attention_mask, special_tokens_mask, overflowing])\n"
     ]
    }
   ],
   "source": [
    "print(\"train_tokenized[0] =\", train_tokenized[0])\n",
    "print(\"val_tokenized[0] =\", val_tokenized[0])\n",
    "print(\"test_tokenized[0] =\", test_tokenized[0])"
   ]
  },
  {
   "cell_type": "markdown",
   "metadata": {},
   "source": [
    "### Convert the tokenized data into a format suitable for training"
   ]
  },
  {
   "cell_type": "code",
   "execution_count": null,
   "metadata": {},
   "outputs": [],
   "source": [
    "import torch\n",
    "# Convert tokenized data into tensors\n",
    "def convert_to_tensors(data):\n",
    "    return {key: torch.tensor(val) for key, val in data.items()}\n",
    "\n",
    "train_tensors = convert_to_tensors(train_tokenized)\n",
    "val_tensors = convert_to_tensors(val_tokenized)\n",
    "test_tensors = convert_to_tensors(test_tokenized)"
   ]
  },
  {
   "cell_type": "code",
   "execution_count": 18,
   "metadata": {},
   "outputs": [
    {
     "data": {
      "text/plain": [
       "{'input_ids': tensor([[  101,   178, 12214,  ...,  1804,  1139,   102],\n",
       "         [  101,  1170,  1103,  ...,     0,     0,     0],\n",
       "         [  101,  1113,  1103,  ..., 22523,  5892,   102],\n",
       "         ...,\n",
       "         [  101,   178,  1138,  ...,     0,     0,     0],\n",
       "         [  101,  1355,  1106,  ...,     0,     0,     0],\n",
       "         [  101,   178,  1148,  ...,     0,     0,     0]]),\n",
       " 'token_type_ids': tensor([[0, 0, 0,  ..., 0, 0, 0],\n",
       "         [0, 0, 0,  ..., 0, 0, 0],\n",
       "         [0, 0, 0,  ..., 0, 0, 0],\n",
       "         ...,\n",
       "         [0, 0, 0,  ..., 0, 0, 0],\n",
       "         [0, 0, 0,  ..., 0, 0, 0],\n",
       "         [0, 0, 0,  ..., 0, 0, 0]]),\n",
       " 'attention_mask': tensor([[1, 1, 1,  ..., 1, 1, 1],\n",
       "         [1, 1, 1,  ..., 0, 0, 0],\n",
       "         [1, 1, 1,  ..., 1, 1, 1],\n",
       "         ...,\n",
       "         [1, 1, 1,  ..., 0, 0, 0],\n",
       "         [1, 1, 1,  ..., 0, 0, 0],\n",
       "         [1, 1, 1,  ..., 0, 0, 0]])}"
      ]
     },
     "execution_count": 18,
     "metadata": {},
     "output_type": "execute_result"
    }
   ],
   "source": [
    "train_tensors"
   ]
  },
  {
   "cell_type": "code",
   "execution_count": 19,
   "metadata": {},
   "outputs": [
    {
     "data": {
      "text/plain": [
       "{'input_ids': tensor([[  101, 14908,  1110,  ...,     0,     0,     0],\n",
       "         [  101,   178,  8423,  ...,     0,     0,     0],\n",
       "         [  101,  1170,  2903,  ...,     0,     0,     0],\n",
       "         ...,\n",
       "         [  101,  1115,  1110,  ...,     0,     0,     0],\n",
       "         [  101,  1142,  1110,  ...,     0,     0,     0],\n",
       "         [  101,  1165,   178,  ...,     0,     0,     0]]),\n",
       " 'token_type_ids': tensor([[0, 0, 0,  ..., 0, 0, 0],\n",
       "         [0, 0, 0,  ..., 0, 0, 0],\n",
       "         [0, 0, 0,  ..., 0, 0, 0],\n",
       "         ...,\n",
       "         [0, 0, 0,  ..., 0, 0, 0],\n",
       "         [0, 0, 0,  ..., 0, 0, 0],\n",
       "         [0, 0, 0,  ..., 0, 0, 0]]),\n",
       " 'attention_mask': tensor([[1, 1, 1,  ..., 0, 0, 0],\n",
       "         [1, 1, 1,  ..., 0, 0, 0],\n",
       "         [1, 1, 1,  ..., 0, 0, 0],\n",
       "         ...,\n",
       "         [1, 1, 1,  ..., 0, 0, 0],\n",
       "         [1, 1, 1,  ..., 0, 0, 0],\n",
       "         [1, 1, 1,  ..., 0, 0, 0]])}"
      ]
     },
     "execution_count": 19,
     "metadata": {},
     "output_type": "execute_result"
    }
   ],
   "source": [
    "val_tensors"
   ]
  },
  {
   "cell_type": "code",
   "execution_count": 20,
   "metadata": {},
   "outputs": [
    {
     "data": {
      "text/plain": [
       "{'input_ids': tensor([[ 101,  178, 1567,  ...,    0,    0,    0],\n",
       "         [ 101, 3869, 1103,  ...,    0,    0,    0],\n",
       "         [ 101, 1122,  170,  ...,    0,    0,    0],\n",
       "         ...,\n",
       "         [ 101,  178, 1400,  ...,    0,    0,    0],\n",
       "         [ 101, 1421, 2517,  ...,    0,    0,    0],\n",
       "         [ 101,  178, 2347,  ...,    0,    0,    0]]),\n",
       " 'token_type_ids': tensor([[0, 0, 0,  ..., 0, 0, 0],\n",
       "         [0, 0, 0,  ..., 0, 0, 0],\n",
       "         [0, 0, 0,  ..., 0, 0, 0],\n",
       "         ...,\n",
       "         [0, 0, 0,  ..., 0, 0, 0],\n",
       "         [0, 0, 0,  ..., 0, 0, 0],\n",
       "         [0, 0, 0,  ..., 0, 0, 0]]),\n",
       " 'attention_mask': tensor([[1, 1, 1,  ..., 0, 0, 0],\n",
       "         [1, 1, 1,  ..., 0, 0, 0],\n",
       "         [1, 1, 1,  ..., 0, 0, 0],\n",
       "         ...,\n",
       "         [1, 1, 1,  ..., 0, 0, 0],\n",
       "         [1, 1, 1,  ..., 0, 0, 0],\n",
       "         [1, 1, 1,  ..., 0, 0, 0]])}"
      ]
     },
     "execution_count": 20,
     "metadata": {},
     "output_type": "execute_result"
    }
   ],
   "source": [
    "test_tensors"
   ]
  },
  {
   "cell_type": "markdown",
   "metadata": {},
   "source": [
    "### Create data loaders for the training, validation, and test sets"
   ]
  },
  {
   "cell_type": "code",
   "execution_count": 21,
   "metadata": {},
   "outputs": [],
   "source": [
    "from torch.utils.data import DataLoader\n",
    "\n",
    "# Create data loaders\n",
    "train_loader = DataLoader(train_tensors, batch_size=32, shuffle=True)\n",
    "val_loader = DataLoader(val_tensors, batch_size=32)\n",
    "test_loader = DataLoader(test_tensors, batch_size=32)"
   ]
  },
  {
   "cell_type": "markdown",
   "metadata": {},
   "source": [
    "## 3. Model Training"
   ]
  },
  {
   "cell_type": "markdown",
   "metadata": {},
   "source": [
    "### Naive Bayes Classifier"
   ]
  },
  {
   "cell_type": "code",
   "execution_count": 22,
   "metadata": {},
   "outputs": [
    {
     "name": "stdout",
     "output_type": "stream",
     "text": [
      "Train Accuracy: 0.5139\n",
      "Validation Accuracy: 0.5028\n",
      "Train F1 Score: 0.48023454074045346\n",
      "Validation F1 Score: 0.4728513912854243\n"
     ]
    }
   ],
   "source": [
    "from sklearn.naive_bayes import MultinomialNB\n",
    "from sklearn.metrics import accuracy_score, f1_score\n",
    "\n",
    "# Convert PyTorch tensors to NumPy arrays\n",
    "X_train_numpy = train_tensors['input_ids'].numpy()\n",
    "y_train = train['labels']\n",
    "\n",
    "X_val_numpy = val_tensors['input_ids'].numpy()\n",
    "y_val = val['labels']\n",
    "\n",
    "# Reshape the data to match Naive Bayes' input requirements\n",
    "X_train_flattened = X_train_numpy.reshape(X_train_numpy.shape[0], -1)\n",
    "X_val_flattened = X_val_numpy.reshape(X_val_numpy.shape[0], -1)\n",
    "\n",
    "# Initialize and train the Naive Bayes classifier\n",
    "naive_bayes_classifier = MultinomialNB()\n",
    "naive_bayes_classifier.fit(X_train_flattened, y_train)\n",
    "\n",
    "# Predictions\n",
    "y_pred_train = naive_bayes_classifier.predict(X_train_flattened)\n",
    "y_pred_val = naive_bayes_classifier.predict(X_val_flattened)\n",
    "\n",
    "# Calculate accuracies\n",
    "train_accuracy = accuracy_score(y_train, y_pred_train)\n",
    "val_accuracy = accuracy_score(y_val, y_pred_val)\n",
    "train_f1_score = f1_score(y_train, y_pred_train, average='weighted')\n",
    "val_f1_score = f1_score(y_val, y_pred_val, average='weighted')\n",
    "\n",
    "print(f\"Train Accuracy: {train_accuracy}\")\n",
    "print(f\"Validation Accuracy: {val_accuracy}\")\n",
    "print(f\"Train F1 Score: {train_f1_score}\")\n",
    "print(f\"Validation F1 Score: {val_f1_score}\")"
   ]
  },
  {
   "cell_type": "markdown",
   "metadata": {},
   "source": [
    "## 4. Model Evaluation"
   ]
  },
  {
   "cell_type": "markdown",
   "metadata": {},
   "source": [
    "### Evaluate the trained model on the test set"
   ]
  },
  {
   "cell_type": "code",
   "execution_count": 23,
   "metadata": {},
   "outputs": [
    {
     "name": "stdout",
     "output_type": "stream",
     "text": [
      "Test Accuracy: 0.50316\n",
      "Test F1 Score: 0.46676893255214535\n"
     ]
    }
   ],
   "source": [
    "# Convert test data to NumPy arrays\n",
    "X_test_numpy = test_tensors['input_ids'].numpy()\n",
    "y_test = test['labels']\n",
    "\n",
    "# Reshape the test data\n",
    "X_test_flattened = X_test_numpy.reshape(X_test_numpy.shape[0], -1)\n",
    "\n",
    "# Predictions on the test set\n",
    "y_pred_test = naive_bayes_classifier.predict(X_test_flattened)\n",
    "\n",
    "# Calculate accuracy on the test set\n",
    "test_accuracy = accuracy_score(y_test, y_pred_test)\n",
    "test_f1_score = f1_score(y_test, y_pred_test, average='weighted')\n",
    "\n",
    "print(f\"Test Accuracy: {test_accuracy}\")\n",
    "print(f\"Test F1 Score: {test_f1_score}\")"
   ]
  },
  {
   "cell_type": "markdown",
   "metadata": {},
   "source": [
    "## 5. Model Deployment"
   ]
  },
  {
   "cell_type": "markdown",
   "metadata": {},
   "source": [
    "### Save the trained model (Pickle)"
   ]
  },
  {
   "cell_type": "code",
   "execution_count": 24,
   "metadata": {},
   "outputs": [
    {
     "name": "stdout",
     "output_type": "stream",
     "text": [
      "Trained model saved to naive_bayes_model.pkl\n"
     ]
    }
   ],
   "source": [
    "import pickle\n",
    "\n",
    "# Define the file path where you want to save the trained model\n",
    "model_file_path = \"naive_bayes_model.pkl\"\n",
    "\n",
    "# Save the trained Naive Bayes classifier to a file\n",
    "with open(model_file_path, 'wb') as file:\n",
    "    pickle.dump(naive_bayes_classifier, file)\n",
    "\n",
    "print(f\"Trained model saved to {model_file_path}\")"
   ]
  }
 ],
 "metadata": {
  "kernelspec": {
   "display_name": "nlp_env",
   "language": "python",
   "name": "python3"
  },
  "language_info": {
   "codemirror_mode": {
    "name": "ipython",
    "version": 3
   },
   "file_extension": ".py",
   "mimetype": "text/x-python",
   "name": "python",
   "nbconvert_exporter": "python",
   "pygments_lexer": "ipython3",
   "version": "3.11.0"
  }
 },
 "nbformat": 4,
 "nbformat_minor": 2
}
